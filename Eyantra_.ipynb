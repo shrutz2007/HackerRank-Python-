{
  "nbformat": 4,
  "nbformat_minor": 0,
  "metadata": {
    "colab": {
      "name": "Eyantra .ipynb",
      "provenance": [],
      "collapsed_sections": []
    },
    "kernelspec": {
      "display_name": "Python 3",
      "name": "python3"
    }
  },
  "cells": [
    {
      "cell_type": "markdown",
      "metadata": {
        "id": "-xV4oQ_vqFWR"
      },
      "source": [
        "# **IFFOR_PY**"
      ]
    },
    {
      "cell_type": "code",
      "metadata": {
        "colab": {
          "base_uri": "https://localhost:8080/"
        },
        "id": "x6XjQHVh3TV4",
        "outputId": "f79c702a-71f8-49bc-8672-5339b7b07868"
      },
      "source": [
        "# Main function\n",
        "if __name__ == '__main__':\n",
        "\t\n",
        "\t# Take the T (test_cases) input\n",
        "\ttest_cases = int(input(\"enter: \"))\n",
        "\tfor i in range(test_cases):\t\t\n",
        "    \t\tn = int(input(\"Enter value of n : \"))\n",
        "    \t\tfor j in range(0,n):\n",
        "        \t\tif j != 0:\n",
        "            \t\t\tif j%2==1:\n",
        "               \t\t\t\tprint(j**2)\n",
        "            \t\t\telse:\n",
        "                \t\t\tprint(j*2)\n",
        "        \t\telse:\n",
        "            \t\t\tprint(3+j)"
      ],
      "execution_count": null,
      "outputs": [
        {
          "output_type": "stream",
          "text": [
            "enter: 2\n",
            "Enter value of n : 2\n",
            "3\n",
            "1\n",
            "Enter value of n : 5\n",
            "3\n",
            "1\n",
            "4\n",
            "9\n",
            "8\n"
          ],
          "name": "stdout"
        }
      ]
    },
    {
      "cell_type": "markdown",
      "metadata": {
        "id": "WrOqIdCaqLVu"
      },
      "source": [
        "# Calculate the distance between 2 **points**"
      ]
    },
    {
      "cell_type": "code",
      "metadata": {
        "colab": {
          "base_uri": "https://localhost:8080/",
          "height": 105
        },
        "id": "xu1384YrA8ZT",
        "outputId": "ecac0432-af21-450b-8bdc-6db4b387ea16"
      },
      "source": [
        "import numpy as np\n",
        "\n",
        "def compute_distance(x1, y1, x2, y2):\n",
        "\n",
        "  point1 = np.array((x1, y1, 0)) \n",
        "  point2 = np.array((x2, y2, 0)) \n",
        "    \n",
        "  dist = np.linalg.norm(point1 - point2) \n",
        "    \n",
        "  print(\"Distance: \" + \"{:.2f}\".format(dist)) \n",
        "\n",
        "if __name__ == '__main__':\n",
        "    \n",
        "    for i in range(int(input())):\n",
        "      x1, y1, x2, y2 = list(map(int, input().split()))\n",
        "\n",
        "      compute_distance(x1, y1, x2, y2)"
      ],
      "execution_count": null,
      "outputs": [
        {
          "output_type": "stream",
          "text": [
            "2\n",
            "-1 0 5 0\n",
            "Distance: 6.00\n",
            "2 1 6 -2\n",
            "Distance: 5.00\n"
          ],
          "name": "stdout"
        }
      ]
    },
    {
      "cell_type": "markdown",
      "metadata": {
        "id": "1FKCKZ2qrJGK"
      },
      "source": [
        "# **Slice the list**"
      ]
    },
    {
      "cell_type": "code",
      "metadata": {
        "colab": {
          "base_uri": "https://localhost:8080/",
          "height": 141
        },
        "id": "C1hicxqUFIR4",
        "outputId": "8bdab6ec-37ea-4062-efc3-906fc330cf91"
      },
      "source": [
        "for i in range(int(input())):\n",
        "  L = int(input())\n",
        "  data = list(map(int, input().split()))\n",
        "\n",
        "  rev = data[::-1]\n",
        "  for i in range(L):\n",
        "    print(rev[i], end=' ')\n",
        "  print()\n",
        "  \n",
        "  for i in range(1, L):\n",
        "    if i%3==0:\n",
        "      print(data[i]+3, end=' ')\n",
        "  print()\n",
        "  \n",
        "  for i in range(1, L):\n",
        "    if i%5==0:\n",
        "      print(data[i]-7, end=' ')\n",
        "  print()\n",
        "\n",
        "  print(sum(data[3:8]))\n",
        "\n"
      ],
      "execution_count": null,
      "outputs": [
        {
          "output_type": "stream",
          "text": [
            "1\n",
            "8\n",
            "-2 4 5 6 2 -9 4 3 \n",
            "3 4 -9 2 6 5 4 -2 \n",
            "9 7 \n",
            "-16 \n",
            "6\n"
          ],
          "name": "stdout"
        }
      ]
    },
    {
      "cell_type": "markdown",
      "metadata": {
        "id": "AwVeCafvrwCS"
      },
      "source": [
        "# Arithmetic Progression with Lambda **function**"
      ]
    },
    {
      "cell_type": "code",
      "metadata": {
        "colab": {
          "base_uri": "https://localhost:8080/",
          "height": 105
        },
        "id": "KL1yOJhAuFmP",
        "outputId": "9963bcc8-d9d2-499d-e19d-ffe1b9e5746b"
      },
      "source": [
        "from functools import reduce\n",
        "\n",
        "def generate_AP(a1, d, n):\n",
        "    AP = []\n",
        "    for i in range(n):\n",
        "      AP.append(i*d + a1)\n",
        "    return AP\n",
        "\n",
        "if __name__ == '__main__':\n",
        "  \n",
        "  test_cases = int(input())\n",
        "  \n",
        "  for i in range(test_cases):\n",
        "\n",
        "    a1, d, n = list(map(int, input().split()))\n",
        "    AP_series = generate_AP(a1, d, n)\n",
        "\n",
        "    sqr_AP_series = list(map(lambda x:x**2, AP_series))\n",
        "\n",
        "    sum_sqr_AP_series = reduce(lambda a,b : a+b,sqr_AP_series)\n",
        "\n",
        "\n",
        "    for i in range(len(AP_series)):\n",
        "      print(AP_series[i], end=' ')\n",
        "    print()\n",
        "    for i in range(len(AP_series)):\n",
        "      print(sqr_AP_series[i], end=' ')\n",
        "    print()\n",
        "    print(sum_sqr_AP_series) \n"
      ],
      "execution_count": null,
      "outputs": [
        {
          "output_type": "stream",
          "text": [
            "1\n",
            "2 5 7\n",
            "2 7 12 17 22 27 32 \n",
            "4 49 144 289 484 729 1024 \n",
            "2723\n"
          ],
          "name": "stdout"
        }
      ]
    },
    {
      "cell_type": "markdown",
      "metadata": {
        "id": "bcKhnfTvsU9M"
      },
      "source": [
        "# **Decimal** to Binary converter "
      ]
    },
    {
      "cell_type": "code",
      "metadata": {
        "colab": {
          "base_uri": "https://localhost:8080/"
        },
        "id": "-eN6ju2wAIo2",
        "outputId": "1a5f7167-9833-4489-e0a2-548ca12dd454"
      },
      "source": [
        "for i in range(int(input(\"How many times you want to rotate loop: \"))):\n",
        "  d = int(input(\"Enter the no: \"))\n",
        "  s = \"{0:b}\".format(d)\n",
        "  s = '0'*(8-len(s)) + s\n",
        "  print(s)\n"
      ],
      "execution_count": null,
      "outputs": [
        {
          "output_type": "stream",
          "text": [
            "How many times you want to rotate loop: 2\n",
            "Enter the no: 5\n",
            "00000101\n",
            "Enter the no: 8\n",
            "00001000\n"
          ],
          "name": "stdout"
        }
      ]
    },
    {
      "cell_type": "markdown",
      "metadata": {
        "id": "edfE3cmA2Ra2"
      },
      "source": [
        "**A string which is a mixture of letter and integer and special char from which find the largest even number from the available digit after removing the duplicates.If an even number is not formed then return -1. Ex : infosys@337O/p : -1Hello#81@21349 O/p :984312**"
      ]
    },
    {
      "cell_type": "code",
      "metadata": {
        "colab": {
          "base_uri": "https://localhost:8080/"
        },
        "id": "wwXPJQy52RCA",
        "outputId": "99752ed2-1fe7-487d-e900-3dbfc3a8ee51"
      },
      "source": [
        "import itertools\n",
        "s=input()\n",
        "ss=set()\n",
        "m=-1\n",
        "for i in s:\n",
        "  if i.isdigit():\n",
        "    ss.add(i)\n",
        "    ll=list(itertools.permutations(ss,len(ss)))\n",
        "    for i in ll:\n",
        "      k=''.join(i)\n",
        "      if int(k)%2==0 and int(k)>m:\n",
        "        m=int(k)\n",
        "print(m)"
      ],
      "execution_count": null,
      "outputs": [
        {
          "output_type": "stream",
          "text": [
            "Hello#81@21349\n",
            "984312\n"
          ],
          "name": "stdout"
        }
      ]
    },
    {
      "cell_type": "markdown",
      "metadata": {
        "id": "A6utHI5wbSYi"
      },
      "source": [
        " Problem Statement:\n",
        " Consider an array inarr containing atleast two&nbsp;non-zero positive integers ranging between 1 to 300\n",
        " (inclusive of the boundary values). Divide the integers in inarr into two groups based on the below rules:\n",
        " 1. Each of the integers should belong to either of the two groups.\n",
        " 2. The total sum of integers in each of the groups must be as nearly equal as  3. The total number of integers between the two groups should not differ by more than 1.\n",
        "  Print outnum1 and outnum2, the sum of the integers of two groups separated by a space.\n",
        " If outnum1 and outnum2 are not equal, then print the smallar sum followed by the larger sum.\n",
        "#\n",
        "   Example: \n",
        "   Input: 87,100,28,67,68,41,67,1\n",
        "  Output: 229 230 "
      ]
    },
    {
      "cell_type": "code",
      "metadata": {
        "colab": {
          "base_uri": "https://localhost:8080/"
        },
        "id": "1w6QFitnbS4j",
        "outputId": "43d5d523-ed61-44ee-9459-62d4683aebfc"
      },
      "source": [
        "def solve(arr, last_index, S1, S2, lenS1, lenS2):\n",
        "        \n",
        "    if(last_index < 0):\n",
        "        if(abs(lenS1 - lenS2) > 1):\n",
        "            return 10**9\n",
        "        return abs(S1 - S2)\n",
        "    return min(solve(arr, last_index - 1, S1, S2, lenS1, lenS2), \n",
        "                            solve(arr, last_index - 1, S1 + arr[last_index], S2 - arr[last_index], lenS1 + 1, lenS2 - 1))\n",
        "    \n",
        "\n",
        "if __name__ == '__main__':\n",
        "    arr = list(map(int, input().split(\",\")))\n",
        "    n = len(arr)\n",
        "    total_sum = sum(arr)\n",
        "    min_diff = solve(arr, n - 1, 0, total_sum, 0, n)\n",
        "    print(int(total_sum/2 - min_diff/2), int(total_sum/2 + min_diff/2))\n"
      ],
      "execution_count": null,
      "outputs": [
        {
          "output_type": "stream",
          "text": [
            "87,100,28,67,68,41,67,1\n",
            "229 230\n"
          ],
          "name": "stdout"
        }
      ]
    },
    {
      "cell_type": "markdown",
      "metadata": {
        "id": "R0YyvnqneItI"
      },
      "source": [
        "\tProblem Statement:\n",
        "or a given positive number num, identify the palindrome formed by performing the following operations-\n",
        "1. Add num and its reverse \n",
        "2. Check whether the sum is palindrome or not. If not, add the sum and its reverse and repeat the process until a palindrome is obtained "
      ]
    },
    {
      "cell_type": "code",
      "metadata": {
        "colab": {
          "base_uri": "https://localhost:8080/"
        },
        "id": "XCMoQBJkeJg7",
        "outputId": "42e81e5d-02ff-4e58-ead4-fb6acc6a48f2"
      },
      "source": [
        "def reverse(num):\n",
        "\treturn int(str(num)[::-1])\n",
        "\n",
        "def is_palindrome(num):\n",
        "\treturn num == reverse(num)\n",
        "\n",
        "if __name__ == '__main__':\n",
        "\tnum = int(input())\n",
        "\twhile True:\n",
        "\t\tnum = num + reverse(num)\n",
        "\t\tif(is_palindrome(num)):\n",
        "\t\t\tprint(num)\n",
        "\t\t\tbreak"
      ],
      "execution_count": null,
      "outputs": [
        {
          "output_type": "stream",
          "text": [
            "195\n",
            "9339\n"
          ],
          "name": "stdout"
        }
      ]
    },
    {
      "cell_type": "markdown",
      "metadata": {
        "id": "_yR1H_w6gYya"
      },
      "source": [
        "Problem Statement:\n",
        "The input is a N x N matrix where some of the items in the matrix are 0.\n",
        "If any of the items are 0, then set that item's entire row and column to 0.\n",
        "items that are not 0 will be represented by an integer."
      ]
    },
    {
      "cell_type": "code",
      "metadata": {
        "colab": {
          "base_uri": "https://localhost:8080/"
        },
        "id": "vYiFhj9BgYI6",
        "outputId": "7c0d8f1f-bd84-4e67-e3cb-1e35ca8b7b3a"
      },
      "source": [
        "def set_zero(matrix, n):\n",
        "\tzero_rows = [False] * n\n",
        "\tzero_cols = [False] * n\n",
        "\t\n",
        "\tfor i in range(n):\n",
        "\t\tfor j in range(n):\n",
        "\t\t\tif matrix[i][j] == 0:\n",
        "\t\t\t\tzero_rows[i] = True\n",
        "\t\t\t\tzero_cols[j] = True\n",
        "\n",
        "\tfor i in range(n):\n",
        "\t\tif zero_rows[i] is True:\n",
        "\t\t\tfor col in range(n):\n",
        "\t\t\t\tmatrix[i][col] = 0\n",
        "\n",
        "\tfor i in range(n):\n",
        "\t\tif zero_cols[i] is True:\n",
        "\t\t\tfor row in range(n):\n",
        "\t\t\t\tmatrix[row][i] = 0\n",
        "\n",
        "\treturn matrix\n",
        "\n",
        "if __name__ == '__main__':\n",
        "\t\n",
        "\tn = int(input())\n",
        "\tarr = []\n",
        "\tfor i in range(n):\n",
        "\t\trow = list(map(int, input().split()))\n",
        "\t\tarr.append(row)\n",
        "\n",
        "\tans = set_zero(arr, n)\n",
        "\n",
        "\tfor i in range(n):\n",
        "\t\tfor j in range(n):\n",
        "\t\t\tprint(ans[i][j], end = \" \")\n",
        "\t\tprint()"
      ],
      "execution_count": null,
      "outputs": [
        {
          "output_type": "stream",
          "text": [
            "4\n",
            "2 3 9 0\n",
            "4 3 8 9 \n",
            "5 8 9 7 \n",
            "0 1 5 0 \n",
            "0 0 0 0 \n",
            "0 3 8 0 \n",
            "0 8 9 0 \n",
            "0 0 0 0 \n"
          ],
          "name": "stdout"
        }
      ]
    },
    {
      "cell_type": "markdown",
      "metadata": {
        "id": "xdMH0zkwhtZs"
      },
      "source": [
        "Q1. String Rotation: -Input: rhdt:246, ghftd:1246 Output: trhd ftdghExplanation: Here, every string (rhdt : 246) is associated with a number, separated by semicolon, if sum of square of digit is even the rotate the string right by 1 position. If square of digit is odd the rotate the string left by 2 position.For first case: 2*2+4*4+6*6=56 which is even sorotate string, rotate right by 1 so ”rhdt” will be “trhd”For second case: 1*1+2*2+4*4+6*6=57 which is oddso rotate string left by 2 so “ghftd” will be “ftdgh”\n",
        "s=input().split(\",\")string=[]digits=[]Output: -\n"
      ]
    },
    {
      "cell_type": "code",
      "metadata": {
        "colab": {
          "base_uri": "https://localhost:8080/"
        },
        "id": "qW6TBwZvhv2O",
        "outputId": "ddaeca91-881e-4cfd-915a-0af5568518f1"
      },
      "source": [
        "s=input().split(\",\")\n",
        "string=[]\n",
        "digits=[]\n",
        "for i in s:\n",
        "  s1,n=i.split(\":\")\n",
        "  string.append(s1)\n",
        "  digits.append(n)\n",
        "def rotate(s1,n):\n",
        "  n=list(str(n))\n",
        "  s2=0\n",
        "  for i in n:\n",
        "    s2+=int(i)**2\n",
        "  if s2%2==0:\n",
        "    return s1[-1:]+s1[:-1]\n",
        "  else:\n",
        "    return s1[-2:]+s1[:-2]\n",
        "for i in range(len(digits)):\n",
        "  print(rotate(string[i],digits[i]))\n",
        "\n"
      ],
      "execution_count": null,
      "outputs": [
        {
          "output_type": "stream",
          "text": [
            "rhdt:246,ghftd:1246\n",
            "trhd\n",
            "tdghf\n"
          ],
          "name": "stdout"
        }
      ]
    },
    {
      "cell_type": "markdown",
      "metadata": {
        "id": "HGGCMY5_lizq"
      },
      "source": [
        "Q4. Sum of FactorFor a given list of numbers find the its factors and add the factors then if the sum of all factor is present in original list, sort it and print itEx:Input: 0,1,6Factors: 0 = 0, sum =01 = 1, sum =16 =1,2,3 = sum =6Output: 1,6If the sum is not present in the list, then return -1"
      ]
    },
    {
      "cell_type": "code",
      "metadata": {
        "colab": {
          "base_uri": "https://localhost:8080/"
        },
        "id": "KAfw2WP2lrc7",
        "outputId": "51f8bab9-a579-4306-c5d6-374d5650ffdc"
      },
      "source": [
        "def factor(n):\n",
        "  s=0\n",
        "  if n==1:\n",
        "    return 1\n",
        "    for i in range(1,n):\n",
        "      if n%i==0:\n",
        "        s+=i\n",
        "      return s \n",
        "list1=list(map(int,input().split(\",\")))\n",
        "flag=0\n",
        "for i in list1:\n",
        "  if factor(i) in list1:\n",
        "    flag=1 \n",
        "    print(i)\n",
        "if flag==0:\n",
        "  print(-1)\n"
      ],
      "execution_count": null,
      "outputs": [
        {
          "output_type": "stream",
          "text": [
            "0,1,6\n",
            "1\n"
          ],
          "name": "stdout"
        }
      ]
    },
    {
      "cell_type": "markdown",
      "metadata": {
        "id": "RlXz-ulHo-9c"
      },
      "source": [
        "Q5.ConcatenationInput: a string of comma separated numbers. The numbers 5 and 8 are present in the list Assume that 8 always comes after 5.\n",
        "Online LearningCase 1: num1 = add all numbers which do not lie between 5 and 8 in the input.Case 2: num2= numbers formed by concatenating all numbers from 5 to 8.Output: sum of num1 and num2Example: 1) 3,2,6,5,1,4,8,9Num1 : 3+2+6+9 =20Num2: 5148output: 5248+20 = 5168"
      ]
    },
    {
      "cell_type": "code",
      "metadata": {
        "colab": {
          "base_uri": "https://localhost:8080/"
        },
        "id": "64wIfoZqpB4x",
        "outputId": "289faf72-0106-4211-c473-578be0853c1f"
      },
      "source": [
        "array=list(map(int,input().split(\",\")))#addallnumberswhichdonotliebetween5and8input\n",
        "number1=sum(array[:array.index(5)])+sum(array[array.index(8)+1:])\n",
        "l=array[array.index(5):array.index(8)+1]#Initializationthenumber2\n",
        "number2=\"\"#concatenateallnumberpresentinarray1\n",
        "for i in l:\n",
        "  number2+=str(i)\n",
        "print(int(number2)+number1)\n",
        "\n"
      ],
      "execution_count": null,
      "outputs": [
        {
          "output_type": "stream",
          "text": [
            "3,2,6,5,1,4,8,9\n",
            "5168\n"
          ],
          "name": "stdout"
        }
      ]
    },
    {
      "cell_type": "markdown",
      "metadata": {
        "id": "Yfjrfe1Qrmua"
      },
      "source": [
        "Q1. Marc’s CakewalkMarc loves cupcakes, but he also likes to stay fit. Each cupcake has a calorie count, and Marc can walk a distance to expend those calories. If Marc has eatenJcupcakes so far, after eating a cupcake withccalories he must walkatleastmiles to maintain his weight.ExampleCalorie = [5,10,7]If he eats the cupcakes in the order shown the mileshe will need to walk are This is not the minimum though so we need to test other orders of consumption. In this case our minimum miles is calculated as Given the individual calorie counts for each of the cupcakes, determine the minimum number of miles marc must walk to maintain his weight. Note that he can eat the cupcakes in any order.\n",
        "SampleInput\n",
        "03132   SampleOutput 11\n"
      ]
    },
    {
      "cell_type": "code",
      "metadata": {
        "colab": {
          "base_uri": "https://localhost:8080/"
        },
        "id": "nv3QHjeHroB_",
        "outputId": "f6a62996-f98b-4f12-a3e2-07385cede354"
      },
      "source": [
        "n=int(input().strip())\n",
        "calories=list(map(int, input().strip().split(' ')))\n",
        "calories.sort(reverse=True)\n",
        "ans=0\n",
        "for x in range(0,n):\n",
        "  ans=ans+(2**x)*calories[x]\n",
        "print(ans)\n"
      ],
      "execution_count": null,
      "outputs": [
        {
          "output_type": "stream",
          "text": [
            "3\n",
            "1 3 2\n",
            "11\n"
          ],
          "name": "stdout"
        }
      ]
    },
    {
      "cell_type": "markdown",
      "metadata": {
        "id": "M8UgtPeKuzSG"
      },
      "source": [
        "Input FormatRead the String instrfrom standard input stream.Output FormatPrint the Identified longest sub-sequence to the standard Output stream.Sample Input: -greatnessSample Output-retesExplanation: -For the Input greatness the possible longest sub-sequence of alphabet alternating between vowels and consonants are:-1. getes2.retes3.gates4.rates5.ranes\n",
        "Online Learning6.ganes7.renes8. genesOut of the identified longest subsequence sequence[2] has the highest sum of ASCII value of its alphabets ie. 547. Hence the output is retes.Sample Input: -kgoiauSample Output-XExplanation: -There is no sub-sequence possible for this input. Because atleast 3 alphabets alternating between vowels and consonants. Hence the Output is X"
      ]
    },
    {
      "cell_type": "code",
      "metadata": {
        "colab": {
          "base_uri": "https://localhost:8080/"
        },
        "id": "fBX2zBnSuy7L",
        "outputId": "699efa0d-9f56-4fc6-8e93-548a61d84e11"
      },
      "source": [
        "s=input()\n",
        "ct=0\n",
        "vt=0\n",
        "v=['a','e','i','o','u']\n",
        "if (s[0] in v):\n",
        "  vt=1\n",
        "else:\n",
        "  ct=1\n",
        "arr=[]\n",
        "i=0\n",
        "length=len(s)\n",
        "my_new=\"\"\n",
        "while True:\n",
        "  if (i==length): \n",
        "    my_new+=max(arr)  \n",
        "    break\n",
        "  if (vt):\n",
        "    if (s[i] in v):\n",
        "      arr.append(s[i])\n",
        "      i+=1\n",
        "    else:\n",
        "      my_new+=max(arr)\n",
        "      ct=1\n",
        "      vt=0\n",
        "      arr=[]\n",
        "  else:\n",
        "    if (s[i] not in v):\n",
        "      arr.append(s[i])\n",
        "      i+=1\n",
        "    else:\n",
        "      my_new+=max(arr)\n",
        "      ct=0\n",
        "      vt=1\n",
        "      arr=[]\n",
        "if (len(my_new)<3):\n",
        "  print('X')\n",
        "else: \n",
        "  print(my_new)\n"
      ],
      "execution_count": null,
      "outputs": [
        {
          "output_type": "stream",
          "text": [
            "greatness\n",
            "retes\n"
          ],
          "name": "stdout"
        }
      ]
    },
    {
      "cell_type": "markdown",
      "metadata": {
        "id": "EKSkn0I_yLur"
      },
      "source": [
        "Aternate even odd\n",
        "input : A5c67r21i@p#8t\n",
        "output : 652781"
      ]
    },
    {
      "cell_type": "code",
      "metadata": {
        "id": "iiCCM_8WuyyP",
        "colab": {
          "base_uri": "https://localhost:8080/"
        },
        "outputId": "1f43fde3-79ab-4b87-f0a5-8985dee40858"
      },
      "source": [
        "myinput=input()\n",
        "even,odd=[],[]\n",
        "sp_ch=0\n",
        "for a in myinput:\n",
        "  if not(a.isalnum()):\n",
        "    sp_ch+=1\n",
        "  if a.isdigit():\n",
        "    if int(a)%2==0:\n",
        "      even.append(a)\n",
        "    else:\n",
        "      odd.append(a)\n",
        "if sp_ch%2!=0:\n",
        "  odd,even=even,odd\n",
        "      \n",
        "\n",
        "for b in range(max(len(even),len(odd))):\n",
        "  if b<len(even):\n",
        "    print(even[b],end=\"\")\n",
        "  if b<len(odd):\n",
        "    print(odd[b],end=\"\")\n"
      ],
      "execution_count": 1,
      "outputs": [
        {
          "output_type": "stream",
          "text": [
            "A5c67r21i@p#8t\n",
            "652781"
          ],
          "name": "stdout"
        }
      ]
    },
    {
      "cell_type": "markdown",
      "metadata": {
        "id": "allC9Nz5ztKz"
      },
      "source": [
        "# **Largest subset of fibonacii number**"
      ]
    },
    {
      "cell_type": "code",
      "metadata": {
        "colab": {
          "base_uri": "https://localhost:8080/"
        },
        "id": "d_1Y2VpjzuBn",
        "outputId": "3e78b093-1df9-4ae5-a793-96fce3b6acfc"
      },
      "source": [
        "arr=list(map(int,input().split(\",\")))\n",
        "arr.sort()\n",
        "max_num=max(arr)\n",
        "num1=0\n",
        "num2=1\n",
        "fib_list=[]\n",
        "fib_list.append(num1)\n",
        "fib_list.append(num2)\n",
        "while(num2<max_num):\n",
        "  sum=num1+num2\n",
        "  num1=num2\n",
        "  num2=sum\n",
        "  fib_list.append(num2)\n",
        "Fib_seq=[]\n",
        "for i in range(len(arr)):\n",
        "  if arr[i] in fib_list:\n",
        "    Fib_seq.append(arr[i])\n",
        "if len(Fib_seq)>2:\n",
        "  print(len(Fib_seq))\n",
        "else:\n",
        "  print(-1)"
      ],
      "execution_count": 7,
      "outputs": [
        {
          "output_type": "stream",
          "text": [
            "3,2,5,8,9,10,11\n",
            "4\n"
          ],
          "name": "stdout"
        }
      ]
    },
    {
      "cell_type": "markdown",
      "metadata": {
        "id": "felFUuhr5o-m"
      },
      "source": [
        "# **minimum distinct elements after deleting x element**"
      ]
    },
    {
      "cell_type": "code",
      "metadata": {
        "colab": {
          "base_uri": "https://localhost:8080/"
        },
        "id": "XeSMsWja5oQz",
        "outputId": "3e64764b-db1f-49bd-d7fb-1dbf7fc6b852"
      },
      "source": [
        "n=int(input())\n",
        "l1=list(map(int,input().split(\" \")))\n",
        "r=sorted(l1,key=l1.count)\n",
        "l=len(r)\n",
        "l2=r[n:l]\n",
        "print(len(set(l2)))"
      ],
      "execution_count": 9,
      "outputs": [
        {
          "output_type": "stream",
          "text": [
            "4\n",
            "1 1 1 2 2 3 3 4 5 6\n",
            "3\n"
          ],
          "name": "stdout"
        }
      ]
    }
  ]
}